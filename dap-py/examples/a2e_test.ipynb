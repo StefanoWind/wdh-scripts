{
 "cells": [
  {
   "cell_type": "code",
   "execution_count": null,
   "id": "9b2d489a-5b25-4a5f-a39a-ac7cb4e961b4",
   "metadata": {},
   "outputs": [],
   "source": [
    "from doe_dap_dl import DAP"
   ]
  },
  {
   "cell_type": "code",
   "execution_count": null,
   "id": "fcef431f-3d87-4eeb-8897-03d468bbfc45",
   "metadata": {},
   "outputs": [],
   "source": [
    "a2e = DAP('a2e.energy.gov')\n",
    "\n",
    "a2e.setup_cert_auth(username='', password='')"
   ]
  },
  {
   "cell_type": "code",
   "execution_count": null,
   "id": "a94a5d82-e3e6-45f5-97b8-f3ce1153f0c9",
   "metadata": {},
   "outputs": [],
   "source": [
    "# Method 1: download from a list of files\n",
    "\n",
    "filter = {\n",
    "    'Dataset': 'wfip2/lidar.z04.a0',\n",
    "    'date_time': {\n",
    "        'between': ['20151004000000', '20151004020000']\n",
    "    },\n",
    "    'file_type': 'nc'\n",
    "}\n",
    "file_names = a2e.search(filter)\n",
    "\n",
    "files = a2e.download_files(file_names)"
   ]
  },
  {
   "cell_type": "code",
   "execution_count": null,
   "id": "2aab23bb",
   "metadata": {},
   "outputs": [],
   "source": [
    "# Method 2: download from a search\n",
    "\n",
    "filter = {\n",
    "    'Dataset': 'wfip2/lidar.z04.a0',\n",
    "    'date_time': {\n",
    "        'between': ['20151001000000', '20151004000000']\n",
    "    },\n",
    "    'file_type': 'nc'\n",
    "}\n",
    "\n",
    "files = a2e.download_search(filter)"
   ]
  },
  {
   "cell_type": "code",
   "execution_count": null,
   "id": "766e20f9",
   "metadata": {},
   "outputs": [],
   "source": [
    "# Method 3: place an order and download\n",
    "filter = {\n",
    "    'Dataset': 'wfip2/lidar.z04.a0',\n",
    "    'date_time': {\n",
    "        'between': ['20151001000000', '20151004000000']\n",
    "    },\n",
    "    'file_type': 'nc'\n",
    "}\n",
    "\n",
    "a2e.download_with_order(filter)"
   ]
  }
 ],
 "metadata": {
  "kernelspec": {
   "display_name": "Python 3.10.5 64-bit",
   "language": "python",
   "name": "python3"
  },
  "language_info": {
   "codemirror_mode": {
    "name": "ipython",
    "version": 3
   },
   "file_extension": ".py",
   "mimetype": "text/x-python",
   "name": "python",
   "nbconvert_exporter": "python",
   "pygments_lexer": "ipython3",
   "version": "3.10.5"
  },
  "vscode": {
   "interpreter": {
    "hash": "ff199f3c0bcc7dd0ae162ad7b3bd12af7e00097238e504015458b063eb5dfb81"
   }
  }
 },
 "nbformat": 4,
 "nbformat_minor": 5
}
